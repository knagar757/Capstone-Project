{
 "cells": [
  {
   "cell_type": "markdown",
   "metadata": {},
   "source": [
    "## Data "
   ]
  },
  {
   "cell_type": "markdown",
   "metadata": {},
   "source": [
    "We have a Data of bike rides of NewYork city. dataset contain several columns in the dataset.\n",
    "* Trip Duration (seconds)\n",
    "* Start Time and Date\n",
    "* Stop Time and Date\n",
    "* Start Station Name\n",
    "* End Station Name\n",
    "* Station ID\n",
    "* Station Lat/Long\n",
    "* Bike ID\n",
    "* User Type (Customer = 24-hour pass or 3-day pass user; Subscriber = Annual Member)\n",
    "* Gender (Zero=unknown; 1=male; 2=female)\n",
    "* Year of Birth"
   ]
  },
  {
   "cell_type": "markdown",
   "metadata": {},
   "source": [
    "I will use here start station name, latitude and longitude and than i will find its neighborhoods in newyork city using `FourSquare API`.\n",
    "i will find the most popular station which is having the maximum number of rides from that particular station.\n"
   ]
  },
  {
   "cell_type": "markdown",
   "metadata": {},
   "source": [
    "[Here you can download the data](\"https://s3.amazonaws.com/tripdata/index.html\") "
   ]
  },
  {
   "cell_type": "code",
   "execution_count": null,
   "metadata": {},
   "outputs": [],
   "source": []
  }
 ],
 "metadata": {
  "kernelspec": {
   "display_name": "Python 3",
   "language": "python",
   "name": "python3"
  },
  "language_info": {
   "codemirror_mode": {
    "name": "ipython",
    "version": 3
   },
   "file_extension": ".py",
   "mimetype": "text/x-python",
   "name": "python",
   "nbconvert_exporter": "python",
   "pygments_lexer": "ipython3",
   "version": "3.7.6"
  }
 },
 "nbformat": 4,
 "nbformat_minor": 4
}
